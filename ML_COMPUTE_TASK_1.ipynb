{
  "nbformat": 4,
  "nbformat_minor": 0,
  "metadata": {
    "colab": {
      "provenance": []
    },
    "kernelspec": {
      "name": "python3",
      "display_name": "Python 3"
    },
    "language_info": {
      "name": "python"
    }
  },
  "cells": [
    {
      "cell_type": "markdown",
      "source": [
        "Q. 1"
      ],
      "metadata": {
        "id": "ZJlBuS1Q8Z0X"
      }
    },
    {
      "cell_type": "code",
      "source": [
        "N, X = map(int, input().split()) \n",
        " \n",
        "Marksheet = []\n",
        "for _ in range(X):\n",
        "    Marksheet.append( map(float, input().split()) ) \n",
        " \n",
        "for i in zip(*Marksheet): \n",
        "    print( sum(i)/len(i) )"
      ],
      "metadata": {
        "id": "T-qrjmNe8bhJ"
      },
      "execution_count": null,
      "outputs": []
    },
    {
      "cell_type": "markdown",
      "source": [
        "Q. 2"
      ],
      "metadata": {
        "id": "52b4BlBa8fO7"
      }
    },
    {
      "cell_type": "code",
      "source": [
        "if __name__ == '__main__':\n",
        "    N = int(input())\n",
        "    alist=[];\n",
        "for i in range(0,N):\n",
        "    aliste=input().split();\n",
        "    if aliste[0] == \"insert\":   \n",
        "        alist.insert(int(aliste[1]),int(aliste[2]))\n",
        "    elif aliste[0] == \"append\":\n",
        "        alist.append(int(aliste[1]))\n",
        "    elif aliste[0] == \"pop\":\n",
        "        alist.pop();\n",
        "    elif aliste[0] == \"print\":\n",
        "        print(alist)\n",
        "    elif aliste[0] == \"remove\":\n",
        "        alist.remove(int(aliste[1]))\n",
        "    elif aliste[0] == \"sort\":\n",
        "        alist.sort();\n",
        "    else:\n",
        "        alist.reverse();\n"
      ],
      "metadata": {
        "id": "0wygvPYK8cpi"
      },
      "execution_count": null,
      "outputs": []
    },
    {
      "cell_type": "markdown",
      "source": [
        "Q. 3"
      ],
      "metadata": {
        "id": "CoimK0Ew8ndx"
      }
    },
    {
      "cell_type": "code",
      "source": [
        "if __name__ == '__main__':\n",
        "    n = int(input(\"No. of students: \"))\n",
        "    student_mrks = {}\n",
        "    for _ in range(n):\n",
        "        line = input(\"Student name and marks scored: \").split()\n",
        "        name, scores = line[0], line[1:]\n",
        "        scores = map(float, scores)\n",
        "        student_mrks[name] = scores\n",
        "    query_name = input(\"Student's name for avg marks calculation: \")\n",
        "    mrks=0\n",
        "for i in student_mrks[query_name]:\n",
        "    mrks=mrks+i\n",
        "avg=mrks/3\n",
        "print(\"Avg marks %.2f\"%avg)"
      ],
      "metadata": {
        "id": "VXybf3tE8mA-"
      },
      "execution_count": null,
      "outputs": []
    },
    {
      "cell_type": "markdown",
      "source": [
        "Q. 4"
      ],
      "metadata": {
        "id": "k3QuYRzf_Btx"
      }
    },
    {
      "cell_type": "code",
      "source": [
        "import re\n",
        "def fun(s):\n",
        "    return re.match(r\"^[a-zA-Z0-9-_]+@[a-zA-Z0-9]+\\.[a-zA-Z]{1,3}$\", s) != None\n"
      ],
      "metadata": {
        "id": "-9tKE7A5BUXx"
      },
      "execution_count": null,
      "outputs": []
    },
    {
      "cell_type": "markdown",
      "source": [
        "Q. 5"
      ],
      "metadata": {
        "id": "EMByACL39A2U"
      }
    },
    {
      "cell_type": "code",
      "source": [
        "def mutate_string(string, index, char):\n",
        "  my_list = list(string)\n",
        "  my_list[index] = char;\n",
        "  string = ''.join(my_list);\n",
        "  return string\n",
        "if __name__ == '__main__':\n",
        "  s = input()\n",
        "  i, c = input().split()\n",
        "  new = mutate_string(s, int(i), c)\n",
        "  print(new)\n"
      ],
      "metadata": {
        "id": "dnpL5jX_9DBk"
      },
      "execution_count": null,
      "outputs": []
    },
    {
      "cell_type": "markdown",
      "source": [
        "Q. 6"
      ],
      "metadata": {
        "id": "9R1J3ys2BahU"
      }
    },
    {
      "cell_type": "code",
      "source": [
        "l1 = []\n",
        "l2 = []\n",
        "n1 = int(input(\"Enter  number of elements in list 1: \"))\n",
        "n2 = int(input(\"Enter  number of elements in list 2: \"))\n",
        "for i in range(n1):\n",
        "    e1 = int(input(\"Enter the elements of list 1: \"))\n",
        "    l1.append(e1)\n",
        "for j in range(n2):\n",
        "    e2 = int(input(\"Enter the elements of list 2: \"))\n",
        "    l2.append(e2)\n",
        "print(l1)\n",
        "print(l2)\n",
        "\n",
        "if l1[-1] == l2[-1]:\n",
        "   print(\"last elements are same\")\n",
        "else:\n",
        "   print(\"last elements are not same\")"
      ],
      "metadata": {
        "id": "xFri0ygf_Az2"
      },
      "execution_count": null,
      "outputs": []
    },
    {
      "cell_type": "markdown",
      "source": [
        "Q. 7"
      ],
      "metadata": {
        "id": "x8scpnPVCWrA"
      }
    },
    {
      "cell_type": "code",
      "source": [],
      "metadata": {
        "id": "7PERIGFyVr_X"
      },
      "execution_count": null,
      "outputs": []
    },
    {
      "cell_type": "code",
      "source": [
        "row = int(input(\"enter no. of rows: \"))\n",
        "for i in range(row +1) :\n",
        "  for j in range(i):\n",
        "    print(i, end = '')\n",
        "  print('')"
      ],
      "metadata": {
        "id": "RI3nxTewCYZ8"
      },
      "execution_count": null,
      "outputs": []
    }
  ]
}